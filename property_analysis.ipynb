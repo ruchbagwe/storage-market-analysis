{
 "cells": [
  {
   "cell_type": "code",
   "execution_count": 1,
   "metadata": {},
   "outputs": [],
   "source": [
    "import pandas as pd\n",
    "import numpy as np\n",
    "import matplotlib.pyplot as plt"
   ]
  },
  {
   "cell_type": "code",
   "execution_count": 2,
   "metadata": {},
   "outputs": [],
   "source": [
    "property_df = pd.read_csv('property locations.csv')"
   ]
  },
  {
   "cell_type": "code",
   "execution_count": 3,
   "metadata": {},
   "outputs": [
    {
     "data": {
      "text/plain": [
       "Index(['Market', 'Owner/Operator, Franchise', 'ADDRESS', 'CTY', 'ST', 'Zip',\n",
       "       'Area', 'Year'],\n",
       "      dtype='object')"
      ]
     },
     "execution_count": 3,
     "metadata": {},
     "output_type": "execute_result"
    }
   ],
   "source": [
    "property_df.columns"
   ]
  },
  {
   "cell_type": "code",
   "execution_count": 4,
   "metadata": {},
   "outputs": [],
   "source": [
    "property_df.rename(columns={'Market':'market',\n",
    "                            'Owner/Operator, Franchise':'owner',\n",
    "                            'ADDRESS':'address',\n",
    "                            'CTY':'city',\n",
    "                            'ST':'state',\n",
    "                            'Zip':'zip',\n",
    "                            'Area':'storage_area',\n",
    "                            'Year':'year'}, inplace=True)"
   ]
  },
  {
   "cell_type": "code",
   "execution_count": 5,
   "metadata": {},
   "outputs": [
    {
     "data": {
      "text/html": [
       "<div>\n",
       "<style scoped>\n",
       "    .dataframe tbody tr th:only-of-type {\n",
       "        vertical-align: middle;\n",
       "    }\n",
       "\n",
       "    .dataframe tbody tr th {\n",
       "        vertical-align: top;\n",
       "    }\n",
       "\n",
       "    .dataframe thead th {\n",
       "        text-align: right;\n",
       "    }\n",
       "</style>\n",
       "<table border=\"1\" class=\"dataframe\">\n",
       "  <thead>\n",
       "    <tr style=\"text-align: right;\">\n",
       "      <th></th>\n",
       "      <th>market</th>\n",
       "      <th>owner</th>\n",
       "      <th>address</th>\n",
       "      <th>city</th>\n",
       "      <th>state</th>\n",
       "      <th>zip</th>\n",
       "      <th>storage_area</th>\n",
       "      <th>year</th>\n",
       "    </tr>\n",
       "  </thead>\n",
       "  <tbody>\n",
       "    <tr>\n",
       "      <th>0</th>\n",
       "      <td>Albuquerque</td>\n",
       "      <td>Extra Space Storage</td>\n",
       "      <td>1522 Pacheco Street</td>\n",
       "      <td>Santa Fe</td>\n",
       "      <td>NM</td>\n",
       "      <td>87505</td>\n",
       "      <td>73934.0</td>\n",
       "      <td>2000.0</td>\n",
       "    </tr>\n",
       "    <tr>\n",
       "      <th>1</th>\n",
       "      <td>Albuquerque</td>\n",
       "      <td>Extra Space Storage</td>\n",
       "      <td>1909 Golf Course Road SE</td>\n",
       "      <td>Rio Rancho</td>\n",
       "      <td>NM</td>\n",
       "      <td>87124</td>\n",
       "      <td>72836.0</td>\n",
       "      <td>2000.0</td>\n",
       "    </tr>\n",
       "    <tr>\n",
       "      <th>2</th>\n",
       "      <td>Albuquerque</td>\n",
       "      <td>Extra Space Storage</td>\n",
       "      <td>3300 Calle Cuervo NW</td>\n",
       "      <td>Albuquerque</td>\n",
       "      <td>NM</td>\n",
       "      <td>87114</td>\n",
       "      <td>80889.0</td>\n",
       "      <td>1998.0</td>\n",
       "    </tr>\n",
       "    <tr>\n",
       "      <th>3</th>\n",
       "      <td>Albuquerque</td>\n",
       "      <td>Extra Space Storage</td>\n",
       "      <td>9831 Montgomery Blvd NE</td>\n",
       "      <td>Albuquerque</td>\n",
       "      <td>NM</td>\n",
       "      <td>87111</td>\n",
       "      <td>62697.0</td>\n",
       "      <td>1997.0</td>\n",
       "    </tr>\n",
       "    <tr>\n",
       "      <th>4</th>\n",
       "      <td>Albuquerque</td>\n",
       "      <td>Extra Space Storage</td>\n",
       "      <td>9221 Eagle Ranch Road NW</td>\n",
       "      <td>Albuquerque</td>\n",
       "      <td>NM</td>\n",
       "      <td>87114</td>\n",
       "      <td>60821.0</td>\n",
       "      <td>1998.0</td>\n",
       "    </tr>\n",
       "  </tbody>\n",
       "</table>\n",
       "</div>"
      ],
      "text/plain": [
       "        market                owner                   address         city  \\\n",
       "0  Albuquerque  Extra Space Storage       1522 Pacheco Street     Santa Fe   \n",
       "1  Albuquerque  Extra Space Storage  1909 Golf Course Road SE   Rio Rancho   \n",
       "2  Albuquerque  Extra Space Storage      3300 Calle Cuervo NW  Albuquerque   \n",
       "3  Albuquerque  Extra Space Storage   9831 Montgomery Blvd NE  Albuquerque   \n",
       "4  Albuquerque  Extra Space Storage  9221 Eagle Ranch Road NW  Albuquerque   \n",
       "\n",
       "  state    zip  storage_area    year  \n",
       "0    NM  87505       73934.0  2000.0  \n",
       "1    NM  87124       72836.0  2000.0  \n",
       "2    NM  87114       80889.0  1998.0  \n",
       "3    NM  87111       62697.0  1997.0  \n",
       "4    NM  87114       60821.0  1998.0  "
      ]
     },
     "execution_count": 5,
     "metadata": {},
     "output_type": "execute_result"
    }
   ],
   "source": [
    "property_df.head()"
   ]
  },
  {
   "cell_type": "markdown",
   "metadata": {},
   "source": [
    "Checking if there is any null value present in dataset"
   ]
  },
  {
   "cell_type": "code",
   "execution_count": 6,
   "metadata": {},
   "outputs": [
    {
     "data": {
      "text/plain": [
       "market           0\n",
       "owner            0\n",
       "address          0\n",
       "city             0\n",
       "state            0\n",
       "zip              0\n",
       "storage_area     4\n",
       "year            76\n",
       "dtype: int64"
      ]
     },
     "execution_count": 6,
     "metadata": {},
     "output_type": "execute_result"
    }
   ],
   "source": [
    "# Check for missing values\n",
    "property_df.isnull().sum()"
   ]
  },
  {
   "cell_type": "markdown",
   "metadata": {},
   "source": [
    "This mean we have 4 rows where \"Area\" value is null"
   ]
  },
  {
   "cell_type": "code",
   "execution_count": 7,
   "metadata": {},
   "outputs": [
    {
     "data": {
      "text/html": [
       "<div>\n",
       "<style scoped>\n",
       "    .dataframe tbody tr th:only-of-type {\n",
       "        vertical-align: middle;\n",
       "    }\n",
       "\n",
       "    .dataframe tbody tr th {\n",
       "        vertical-align: top;\n",
       "    }\n",
       "\n",
       "    .dataframe thead th {\n",
       "        text-align: right;\n",
       "    }\n",
       "</style>\n",
       "<table border=\"1\" class=\"dataframe\">\n",
       "  <thead>\n",
       "    <tr style=\"text-align: right;\">\n",
       "      <th></th>\n",
       "      <th>market</th>\n",
       "      <th>owner</th>\n",
       "      <th>address</th>\n",
       "      <th>city</th>\n",
       "      <th>state</th>\n",
       "      <th>zip</th>\n",
       "      <th>storage_area</th>\n",
       "      <th>year</th>\n",
       "    </tr>\n",
       "  </thead>\n",
       "  <tbody>\n",
       "    <tr>\n",
       "      <th>1506</th>\n",
       "      <td>New Jersey - Northern</td>\n",
       "      <td>CubeSmart Self Storage</td>\n",
       "      <td>110 Pleasant Avenue</td>\n",
       "      <td>Upper Saddle River</td>\n",
       "      <td>NJ</td>\n",
       "      <td>7458</td>\n",
       "      <td>NaN</td>\n",
       "      <td>NaN</td>\n",
       "    </tr>\n",
       "    <tr>\n",
       "      <th>1734</th>\n",
       "      <td>Baltimore</td>\n",
       "      <td>EZ Storage Phase II</td>\n",
       "      <td>1450 Taylor Avenue</td>\n",
       "      <td>Parkville</td>\n",
       "      <td>MD</td>\n",
       "      <td>21234</td>\n",
       "      <td>NaN</td>\n",
       "      <td>NaN</td>\n",
       "    </tr>\n",
       "    <tr>\n",
       "      <th>1783</th>\n",
       "      <td>Baltimore</td>\n",
       "      <td>EZ Storage Phase II</td>\n",
       "      <td>1450 Taylor Avenue</td>\n",
       "      <td>Parkville</td>\n",
       "      <td>MD</td>\n",
       "      <td>21234</td>\n",
       "      <td>NaN</td>\n",
       "      <td>NaN</td>\n",
       "    </tr>\n",
       "    <tr>\n",
       "      <th>4128</th>\n",
       "      <td>Seattle</td>\n",
       "      <td>Public Storage Phase II</td>\n",
       "      <td>1800 124th Avenue NE</td>\n",
       "      <td>Bellevue</td>\n",
       "      <td>WA</td>\n",
       "      <td>98005</td>\n",
       "      <td>NaN</td>\n",
       "      <td>NaN</td>\n",
       "    </tr>\n",
       "  </tbody>\n",
       "</table>\n",
       "</div>"
      ],
      "text/plain": [
       "                     market                    owner               address  \\\n",
       "1506  New Jersey - Northern   CubeSmart Self Storage   110 Pleasant Avenue   \n",
       "1734              Baltimore      EZ Storage Phase II    1450 Taylor Avenue   \n",
       "1783              Baltimore      EZ Storage Phase II    1450 Taylor Avenue   \n",
       "4128                Seattle  Public Storage Phase II  1800 124th Avenue NE   \n",
       "\n",
       "                    city state    zip  storage_area  year  \n",
       "1506  Upper Saddle River    NJ   7458           NaN   NaN  \n",
       "1734           Parkville    MD  21234           NaN   NaN  \n",
       "1783           Parkville    MD  21234           NaN   NaN  \n",
       "4128            Bellevue    WA  98005           NaN   NaN  "
      ]
     },
     "execution_count": 7,
     "metadata": {},
     "output_type": "execute_result"
    }
   ],
   "source": [
    "property_df[property_df['storage_area'].isnull()]"
   ]
  },
  {
   "cell_type": "code",
   "execution_count": 8,
   "metadata": {},
   "outputs": [],
   "source": [
    "#dropping the row containg \n",
    "property_df.dropna(inplace=True)"
   ]
  },
  {
   "cell_type": "code",
   "execution_count": 9,
   "metadata": {},
   "outputs": [
    {
     "data": {
      "text/html": [
       "<div>\n",
       "<style scoped>\n",
       "    .dataframe tbody tr th:only-of-type {\n",
       "        vertical-align: middle;\n",
       "    }\n",
       "\n",
       "    .dataframe tbody tr th {\n",
       "        vertical-align: top;\n",
       "    }\n",
       "\n",
       "    .dataframe thead th {\n",
       "        text-align: right;\n",
       "    }\n",
       "</style>\n",
       "<table border=\"1\" class=\"dataframe\">\n",
       "  <thead>\n",
       "    <tr style=\"text-align: right;\">\n",
       "      <th></th>\n",
       "      <th>zip</th>\n",
       "      <th>storage_area</th>\n",
       "      <th>year</th>\n",
       "    </tr>\n",
       "  </thead>\n",
       "  <tbody>\n",
       "    <tr>\n",
       "      <th>count</th>\n",
       "      <td>4355.000000</td>\n",
       "      <td>4355.000000</td>\n",
       "      <td>4355.000000</td>\n",
       "    </tr>\n",
       "    <tr>\n",
       "      <th>mean</th>\n",
       "      <td>53463.004363</td>\n",
       "      <td>83487.431458</td>\n",
       "      <td>1993.258553</td>\n",
       "    </tr>\n",
       "    <tr>\n",
       "      <th>std</th>\n",
       "      <td>30472.039855</td>\n",
       "      <td>36525.974630</td>\n",
       "      <td>13.076863</td>\n",
       "    </tr>\n",
       "    <tr>\n",
       "      <th>min</th>\n",
       "      <td>1020.000000</td>\n",
       "      <td>5000.000000</td>\n",
       "      <td>1900.000000</td>\n",
       "    </tr>\n",
       "    <tr>\n",
       "      <th>25%</th>\n",
       "      <td>29407.000000</td>\n",
       "      <td>59529.000000</td>\n",
       "      <td>1985.000000</td>\n",
       "    </tr>\n",
       "    <tr>\n",
       "      <th>50%</th>\n",
       "      <td>50023.000000</td>\n",
       "      <td>77469.000000</td>\n",
       "      <td>1994.000000</td>\n",
       "    </tr>\n",
       "    <tr>\n",
       "      <th>75%</th>\n",
       "      <td>80910.000000</td>\n",
       "      <td>98124.000000</td>\n",
       "      <td>2002.000000</td>\n",
       "    </tr>\n",
       "    <tr>\n",
       "      <th>max</th>\n",
       "      <td>98685.000000</td>\n",
       "      <td>398279.000000</td>\n",
       "      <td>2021.000000</td>\n",
       "    </tr>\n",
       "  </tbody>\n",
       "</table>\n",
       "</div>"
      ],
      "text/plain": [
       "                zip   storage_area         year\n",
       "count   4355.000000    4355.000000  4355.000000\n",
       "mean   53463.004363   83487.431458  1993.258553\n",
       "std    30472.039855   36525.974630    13.076863\n",
       "min     1020.000000    5000.000000  1900.000000\n",
       "25%    29407.000000   59529.000000  1985.000000\n",
       "50%    50023.000000   77469.000000  1994.000000\n",
       "75%    80910.000000   98124.000000  2002.000000\n",
       "max    98685.000000  398279.000000  2021.000000"
      ]
     },
     "execution_count": 9,
     "metadata": {},
     "output_type": "execute_result"
    }
   ],
   "source": [
    "property_df.describe()"
   ]
  },
  {
   "cell_type": "code",
   "execution_count": 10,
   "metadata": {},
   "outputs": [
    {
     "name": "stdout",
     "output_type": "stream",
     "text": [
      "<class 'pandas.core.frame.DataFrame'>\n",
      "Int64Index: 4355 entries, 0 to 4430\n",
      "Data columns (total 8 columns):\n",
      " #   Column        Non-Null Count  Dtype  \n",
      "---  ------        --------------  -----  \n",
      " 0   market        4355 non-null   object \n",
      " 1   owner         4355 non-null   object \n",
      " 2   address       4355 non-null   object \n",
      " 3   city          4355 non-null   object \n",
      " 4   state         4355 non-null   object \n",
      " 5   zip           4355 non-null   int64  \n",
      " 6   storage_area  4355 non-null   float64\n",
      " 7   year          4355 non-null   float64\n",
      "dtypes: float64(2), int64(1), object(5)\n",
      "memory usage: 306.2+ KB\n"
     ]
    }
   ],
   "source": [
    "property_df.info()"
   ]
  },
  {
   "cell_type": "code",
   "execution_count": 11,
   "metadata": {},
   "outputs": [],
   "source": [
    "property_df['year'] = property_df['year'].astype(int)"
   ]
  },
  {
   "cell_type": "code",
   "execution_count": 12,
   "metadata": {},
   "outputs": [
    {
     "data": {
      "text/plain": [
       "34840"
      ]
     },
     "execution_count": 12,
     "metadata": {},
     "output_type": "execute_result"
    }
   ],
   "source": [
    "property_df.size"
   ]
  },
  {
   "cell_type": "code",
   "execution_count": 13,
   "metadata": {},
   "outputs": [],
   "source": [
    "df = property_df"
   ]
  },
  {
   "cell_type": "code",
   "execution_count": 14,
   "metadata": {},
   "outputs": [
    {
     "data": {
      "text/plain": [
       "Index(['market', 'owner', 'address', 'city', 'state', 'zip', 'storage_area',\n",
       "       'year'],\n",
       "      dtype='object')"
      ]
     },
     "execution_count": 14,
     "metadata": {},
     "output_type": "execute_result"
    }
   ],
   "source": [
    "df.columns"
   ]
  },
  {
   "cell_type": "markdown",
   "metadata": {},
   "source": [
    "### Analysis of self-storage property over year"
   ]
  },
  {
   "cell_type": "code",
   "execution_count": 17,
   "metadata": {},
   "outputs": [
    {
     "data": {
      "image/png": "[encoded data removed]",
      "text/plain": [
       "<Figure size 1440x504 with 1 Axes>"
      ]
     },
     "metadata": {
      "needs_background": "light"
     },
     "output_type": "display_data"
    }
   ],
   "source": [
    "fig= plt.figure(figsize=(20,7))\n",
    "data = df.groupby(['year']).storage_area.sum().plot(kind='bar',ylabel='storage_area')\n",
    "plt.show()"
   ]
  },
  {
   "cell_type": "markdown",
   "metadata": {},
   "source": [
    "### Analysis of self-storage property over state"
   ]
  },
  {
   "cell_type": "code",
   "execution_count": 18,
   "metadata": {},
   "outputs": [
    {
     "data": {
      "image/png": "[encoded data removed]",
      "text/plain": [
       "<Figure size 1440x504 with 1 Axes>"
      ]
     },
     "metadata": {
      "needs_background": "light"
     },
     "output_type": "display_data"
    }
   ],
   "source": [
    "fig= plt.figure(figsize=(20,7))\n",
    "data = df.groupby(['state']).storage_area.sum().plot(kind='bar',ylabel='storage_area')\n",
    "plt.show()"
   ]
  },
  {
   "cell_type": "markdown",
   "metadata": {},
   "source": [
    "Above graph shows that maximum self-storage area are observed in California and Texas state"
   ]
  },
  {
   "cell_type": "markdown",
   "metadata": {},
   "source": [
    "### Analysis of self-storage property distribution in California"
   ]
  },
  {
   "cell_type": "code",
   "execution_count": 23,
   "metadata": {},
   "outputs": [
    {
     "data": {
      "image/png": "[encoded data removed]",
      "text/plain": [
       "<Figure size 1440x504 with 1 Axes>"
      ]
     },
     "metadata": {
      "needs_background": "light"
     },
     "output_type": "display_data"
    }
   ],
   "source": [
    "fig= plt.figure(figsize=(20,7))\n",
    "data = df[df['state'] == 'CA'].groupby('year').storage_area.sum().plot(kind='bar',ylabel='storage_area')\n",
    "#plt.xticks(np.arange(1900, 2021, 2))\n",
    "plt.show()"
   ]
  },
  {
   "cell_type": "markdown",
   "metadata": {},
   "source": [
    "In past few years self_storage area in california is decreased drastically "
   ]
  },
  {
   "cell_type": "markdown",
   "metadata": {},
   "source": [
    "### Analysis of self-storage property distribution in Texas"
   ]
  },
  {
   "cell_type": "code",
   "execution_count": 24,
   "metadata": {},
   "outputs": [
    {
     "data": {
      "image/png": "[encoded data removed]",
      "text/plain": [
       "<Figure size 1440x504 with 1 Axes>"
      ]
     },
     "metadata": {
      "needs_background": "light"
     },
     "output_type": "display_data"
    }
   ],
   "source": [
    "fig= plt.figure(figsize=(20,7))\n",
    "data = df[df['state'] == 'TX'].groupby('year').storage_area.sum().plot(kind='bar',ylabel='storage_area')\n",
    "plt.show()"
   ]
  },
  {
   "cell_type": "markdown",
   "metadata": {},
   "source": [
    "In past few years self_storage area in Texas is increased  "
   ]
  },
  {
   "cell_type": "markdown",
   "metadata": {},
   "source": [
    "### Checking top 5 states storage_area wise for year 2019 - 2015"
   ]
  },
  {
   "cell_type": "code",
   "execution_count": 41,
   "metadata": {},
   "outputs": [
    {
     "data": {
      "image/png": "[encoded data removed]",
      "text/plain": [
       "<Figure size 1440x504 with 1 Axes>"
      ]
     },
     "metadata": {
      "needs_background": "light"
     },
     "output_type": "display_data"
    }
   ],
   "source": [
    "fig= plt.figure(figsize=(20,7))\n",
    "data = df[df['year'] == 2019].groupby('state').storage_area.sum().\\\n",
    "    sort_values(ascending=False).head().plot(kind='bar',ylabel='storage_area')\n",
    "plt.show()"
   ]
  },
  {
   "cell_type": "code",
   "execution_count": 40,
   "metadata": {},
   "outputs": [
    {
     "data": {
      "image/png": "[encoded data removed]",
      "text/plain": [
       "<Figure size 1440x504 with 1 Axes>"
      ]
     },
     "metadata": {
      "needs_background": "light"
     },
     "output_type": "display_data"
    }
   ],
   "source": [
    "fig= plt.figure(figsize=(20,7))\n",
    "data = df[df['year'] == 2018].groupby('state').storage_area.sum().\\\n",
    "        sort_values(ascending=False).head().plot(kind='bar',ylabel='storage_area')\n",
    "plt.show()"
   ]
  },
  {
   "cell_type": "code",
   "execution_count": 42,
   "metadata": {},
   "outputs": [
    {
     "data": {
      "image/png": "[encoded data removed]",
      "text/plain": [
       "<Figure size 1440x504 with 1 Axes>"
      ]
     },
     "metadata": {
      "needs_background": "light"
     },
     "output_type": "display_data"
    }
   ],
   "source": [
    "fig= plt.figure(figsize=(20,7))\n",
    "data = df[df['year'] == 2017].groupby('state').storage_area.sum().\\\n",
    "        sort_values(ascending=False).head().plot(kind='bar',ylabel='storage_area')\n",
    "plt.show()"
   ]
  },
  {
   "cell_type": "code",
   "execution_count": 43,
   "metadata": {},
   "outputs": [
    {
     "data": {
      "image/png": "[encoded data removed]",
      "text/plain": [
       "<Figure size 1440x504 with 1 Axes>"
      ]
     },
     "metadata": {
      "needs_background": "light"
     },
     "output_type": "display_data"
    }
   ],
   "source": [
    "fig= plt.figure(figsize=(20,7))\n",
    "data = df[df['year'] == 2016].groupby('state').storage_area.sum().\\\n",
    "        sort_values(ascending=False).head().plot(kind='bar',ylabel='storage_area')\n",
    "plt.show()"
   ]
  },
  {
   "cell_type": "code",
   "execution_count": 44,
   "metadata": {},
   "outputs": [
    {
     "data": {
      "image/png": "[encoded data removed]",
      "text/plain": [
       "<Figure size 1440x504 with 1 Axes>"
      ]
     },
     "metadata": {
      "needs_background": "light"
     },
     "output_type": "display_data"
    }
   ],
   "source": [
    "fig= plt.figure(figsize=(20,7))\n",
    "data = df[df['year'] == 2015].groupby('state').storage_area.sum().\\\n",
    "        sort_values(ascending=False).head().plot(kind='bar',ylabel='storage_area')\n",
    "plt.show()"
   ]
  },
  {
   "cell_type": "markdown",
   "metadata": {},
   "source": [
    "From above bar graph we can say that over past 5 years self-storage area in Texas increasing and and California, CO , VA, FL and NY, NJ are among popular state for self-storage investment"
   ]
  },
  {
   "cell_type": "code",
   "execution_count": null,
   "metadata": {},
   "outputs": [],
   "source": []
  }
 ],
 "metadata": {
  "kernelspec": {
   "display_name": "Python 3",
   "language": "python",
   "name": "python3"
  },
  "language_info": {
   "codemirror_mode": {
    "name": "ipython",
    "version": 3
   },
   "file_extension": ".py",
   "mimetype": "text/x-python",
   "name": "python",
   "nbconvert_exporter": "python",
   "pygments_lexer": "ipython3",
   "version": "3.8.3"
  }
 },
 "nbformat": 4,
 "nbformat_minor": 4
}
